{
 "cells": [
  {
   "cell_type": "markdown",
   "id": "0745ec12",
   "metadata": {},
   "source": [
    "# Множества и словари. Воркбук урока"
   ]
  },
  {
   "cell_type": "markdown",
   "id": "08a87062",
   "metadata": {},
   "source": [
    "## 1. Множества (set)"
   ]
  },
  {
   "cell_type": "markdown",
   "id": "30500d08",
   "metadata": {},
   "source": [
    "### 1.1. Введение в множества"
   ]
  },
  {
   "cell_type": "markdown",
   "id": "85488473",
   "metadata": {},
   "source": [
    "Неупорядоченные списки, содержащие лишь уникальные значения.\\\n",
    "Важное свойство множеств — они не упорядочены. Соответственно, в них невозможно обращение по индексу.\n"
   ]
  },
  {
   "cell_type": "code",
   "execution_count": 2,
   "id": "f112ae40",
   "metadata": {},
   "outputs": [
    {
     "name": "stdout",
     "output_type": "stream",
     "text": [
      "<class 'set'> {1, 3, 4}\n"
     ]
    }
   ],
   "source": [
    "my_set = {1,3,4,4,4,4}\n",
    "print(type(my_set), my_set)"
   ]
  },
  {
   "cell_type": "code",
   "execution_count": 3,
   "id": "cdd8aa7e",
   "metadata": {},
   "outputs": [
    {
     "data": {
      "text/plain": [
       "3"
      ]
     },
     "execution_count": 3,
     "metadata": {},
     "output_type": "execute_result"
    }
   ],
   "source": [
    "len(my_set)"
   ]
  },
  {
   "cell_type": "code",
   "execution_count": 4,
   "id": "ef050376",
   "metadata": {},
   "outputs": [],
   "source": [
    "my_set={1,1,1,1}"
   ]
  },
  {
   "cell_type": "code",
   "execution_count": 5,
   "id": "9a208b50",
   "metadata": {},
   "outputs": [
    {
     "data": {
      "text/plain": [
       "{1}"
      ]
     },
     "execution_count": 5,
     "metadata": {},
     "output_type": "execute_result"
    }
   ],
   "source": [
    "my_set"
   ]
  },
  {
   "cell_type": "code",
   "execution_count": 6,
   "id": "d84b31ef",
   "metadata": {},
   "outputs": [],
   "source": [
    "#my_set[0]\n",
    "#my_set(0)\n",
    "#my_set{0}"
   ]
  },
  {
   "cell_type": "code",
   "execution_count": 7,
   "id": "f23994de",
   "metadata": {},
   "outputs": [
    {
     "name": "stdout",
     "output_type": "stream",
     "text": [
      "{'a', 2, True, 14.0}\n"
     ]
    }
   ],
   "source": [
    "new_set = {'a', True, 2, 14.0}\n",
    "print(new_set)"
   ]
  },
  {
   "cell_type": "code",
   "execution_count": 8,
   "id": "cc65f462",
   "metadata": {},
   "outputs": [
    {
     "name": "stdout",
     "output_type": "stream",
     "text": [
      "{'a', (1, 2, 3), True, 14.0}\n"
     ]
    }
   ],
   "source": [
    "new_set = {'a', True, (1,2,3), 14.0}\n",
    "print(new_set)"
   ]
  },
  {
   "cell_type": "code",
   "execution_count": 9,
   "id": "14427d57",
   "metadata": {},
   "outputs": [
    {
     "ename": "TypeError",
     "evalue": "unhashable type: 'list'",
     "output_type": "error",
     "traceback": [
      "\u001b[1;31m---------------------------------------------------------------------------\u001b[0m",
      "\u001b[1;31mTypeError\u001b[0m                                 Traceback (most recent call last)",
      "\u001b[1;32m<ipython-input-9-af4f446bc149>\u001b[0m in \u001b[0;36m<module>\u001b[1;34m\u001b[0m\n\u001b[1;32m----> 1\u001b[1;33m \u001b[0mnew_set\u001b[0m \u001b[1;33m=\u001b[0m \u001b[1;33m{\u001b[0m\u001b[1;34m'a'\u001b[0m\u001b[1;33m,\u001b[0m \u001b[1;32mTrue\u001b[0m\u001b[1;33m,\u001b[0m \u001b[1;33m[\u001b[0m\u001b[1;36m1\u001b[0m\u001b[1;33m,\u001b[0m\u001b[1;36m2\u001b[0m\u001b[1;33m,\u001b[0m\u001b[1;36m3\u001b[0m\u001b[1;33m]\u001b[0m\u001b[1;33m,\u001b[0m \u001b[1;36m14.0\u001b[0m\u001b[1;33m}\u001b[0m\u001b[1;33m\u001b[0m\u001b[1;33m\u001b[0m\u001b[0m\n\u001b[0m\u001b[0;32m      2\u001b[0m \u001b[0mprint\u001b[0m\u001b[1;33m(\u001b[0m\u001b[0mnew_set\u001b[0m\u001b[1;33m)\u001b[0m\u001b[1;33m\u001b[0m\u001b[1;33m\u001b[0m\u001b[0m\n",
      "\u001b[1;31mTypeError\u001b[0m: unhashable type: 'list'"
     ]
    }
   ],
   "source": [
    "new_set = {'a', True, [1,2,3], 14.0}\n",
    "print(new_set)"
   ]
  },
  {
   "cell_type": "code",
   "execution_count": 10,
   "id": "6af6ddec",
   "metadata": {},
   "outputs": [
    {
     "ename": "TypeError",
     "evalue": "unhashable type: 'set'",
     "output_type": "error",
     "traceback": [
      "\u001b[1;31m---------------------------------------------------------------------------\u001b[0m",
      "\u001b[1;31mTypeError\u001b[0m                                 Traceback (most recent call last)",
      "\u001b[1;32m<ipython-input-10-1eb8e6966385>\u001b[0m in \u001b[0;36m<module>\u001b[1;34m\u001b[0m\n\u001b[1;32m----> 1\u001b[1;33m \u001b[0mnew_set\u001b[0m \u001b[1;33m=\u001b[0m \u001b[1;33m{\u001b[0m\u001b[1;34m'a'\u001b[0m\u001b[1;33m,\u001b[0m \u001b[1;32mTrue\u001b[0m\u001b[1;33m,\u001b[0m \u001b[1;33m{\u001b[0m\u001b[1;36m1\u001b[0m\u001b[1;33m,\u001b[0m\u001b[1;36m2\u001b[0m\u001b[1;33m,\u001b[0m\u001b[1;36m3\u001b[0m\u001b[1;33m}\u001b[0m\u001b[1;33m,\u001b[0m \u001b[1;36m14.0\u001b[0m\u001b[1;33m}\u001b[0m\u001b[1;33m\u001b[0m\u001b[1;33m\u001b[0m\u001b[0m\n\u001b[0m",
      "\u001b[1;31mTypeError\u001b[0m: unhashable type: 'set'"
     ]
    }
   ],
   "source": [
    "new_set = {'a', True, {1,2,3}, 14.0}\n"
   ]
  },
  {
   "cell_type": "code",
   "execution_count": 11,
   "id": "e087b6a3",
   "metadata": {},
   "outputs": [],
   "source": [
    "################################################################################################################################"
   ]
  },
  {
   "cell_type": "markdown",
   "id": "99523741",
   "metadata": {},
   "source": [
    "### 1.2. Итерация по множеству"
   ]
  },
  {
   "cell_type": "code",
   "execution_count": 12,
   "id": "9aee8a32",
   "metadata": {},
   "outputs": [],
   "source": [
    "list_fruit = ['яблоко', 'груша', 'яблоко', 'апельсин', 'яблоко', 'апельсин', 'мандарин', 'манго', 'яблоко']"
   ]
  },
  {
   "cell_type": "code",
   "execution_count": 13,
   "id": "4cd7d755",
   "metadata": {},
   "outputs": [
    {
     "name": "stdout",
     "output_type": "stream",
     "text": [
      "{'груша', 'апельсин', 'манго', 'яблоко', 'мандарин'}\n"
     ]
    }
   ],
   "source": [
    "set_fruit = set(list_fruit)\n",
    "print(set_fruit)"
   ]
  },
  {
   "cell_type": "code",
   "execution_count": 14,
   "id": "2083573c",
   "metadata": {},
   "outputs": [
    {
     "name": "stdout",
     "output_type": "stream",
     "text": [
      "груша\n",
      "апельсин\n",
      "манго\n",
      "яблоко\n",
      "мандарин\n"
     ]
    }
   ],
   "source": [
    "for i in set_fruit:\n",
    "    print(i)"
   ]
  },
  {
   "cell_type": "code",
   "execution_count": 15,
   "id": "5a3c5585",
   "metadata": {},
   "outputs": [],
   "source": [
    "################################################################################################################################"
   ]
  },
  {
   "cell_type": "markdown",
   "id": "38bb5a2f",
   "metadata": {},
   "source": [
    "### 1.3. Добавление элемента к множеству"
   ]
  },
  {
   "cell_type": "code",
   "execution_count": 16,
   "id": "ff2d79dd",
   "metadata": {},
   "outputs": [],
   "source": [
    "our_set = {1,2,3}"
   ]
  },
  {
   "cell_type": "code",
   "execution_count": 17,
   "id": "a91626a2",
   "metadata": {},
   "outputs": [],
   "source": [
    "our_set.add(4)"
   ]
  },
  {
   "cell_type": "code",
   "execution_count": 18,
   "id": "b6ea27fa",
   "metadata": {},
   "outputs": [
    {
     "name": "stdout",
     "output_type": "stream",
     "text": [
      "{1, 2, 3, 4}\n"
     ]
    }
   ],
   "source": [
    "print(our_set)"
   ]
  },
  {
   "cell_type": "code",
   "execution_count": 19,
   "id": "b2cf89ac",
   "metadata": {},
   "outputs": [],
   "source": [
    "our_list = [1,2,3]"
   ]
  },
  {
   "cell_type": "code",
   "execution_count": 20,
   "id": "85b53ac1",
   "metadata": {},
   "outputs": [
    {
     "name": "stdout",
     "output_type": "stream",
     "text": [
      "[1, 2, 3, 4]\n"
     ]
    }
   ],
   "source": [
    "our_list.append(4)\n",
    "print(our_list)"
   ]
  },
  {
   "cell_type": "code",
   "execution_count": 21,
   "id": "0ad9fa32",
   "metadata": {},
   "outputs": [],
   "source": [
    "new_our_set = our_set.add(4)"
   ]
  },
  {
   "cell_type": "code",
   "execution_count": 22,
   "id": "2ee7e00a",
   "metadata": {},
   "outputs": [
    {
     "name": "stdout",
     "output_type": "stream",
     "text": [
      "None\n"
     ]
    }
   ],
   "source": [
    "print(new_our_set)"
   ]
  },
  {
   "cell_type": "code",
   "execution_count": 23,
   "id": "8732e068",
   "metadata": {},
   "outputs": [],
   "source": [
    "################################################################################################################################"
   ]
  },
  {
   "cell_type": "markdown",
   "id": "03241f7d",
   "metadata": {},
   "source": [
    "### 1.4. Удаление элемента из множества"
   ]
  },
  {
   "cell_type": "code",
   "execution_count": 24,
   "id": "d6aa098b",
   "metadata": {},
   "outputs": [
    {
     "name": "stdout",
     "output_type": "stream",
     "text": [
      "{'SQL', 'PBI', 'Python'}\n"
     ]
    }
   ],
   "source": [
    "set_skypro = {'Excel', 'SQL', 'Python', 'PBI'}\n",
    "set_skypro.discard('Excel')\n",
    "print(set_skypro)"
   ]
  },
  {
   "cell_type": "code",
   "execution_count": 25,
   "id": "a6c17d4e",
   "metadata": {},
   "outputs": [
    {
     "name": "stdout",
     "output_type": "stream",
     "text": [
      "{'SQL', 'PBI', 'Python'}\n"
     ]
    }
   ],
   "source": [
    "set_skypro = {'Excel', 'SQL', 'Python', 'PBI'}\n",
    "set_skypro.remove('Excel')\n",
    "print(set_skypro)"
   ]
  },
  {
   "cell_type": "code",
   "execution_count": 26,
   "id": "d845fc1b",
   "metadata": {},
   "outputs": [
    {
     "name": "stdout",
     "output_type": "stream",
     "text": [
      "{'Excel', 'SQL', 'PBI', 'Python'}\n"
     ]
    }
   ],
   "source": [
    "set_skypro = {'Excel', 'SQL', 'Python', 'PBI'}\n",
    "set_skypro.discard('PHP')\n",
    "print(set_skypro)"
   ]
  },
  {
   "cell_type": "code",
   "execution_count": 27,
   "id": "fc38a556",
   "metadata": {},
   "outputs": [
    {
     "ename": "KeyError",
     "evalue": "'PHP'",
     "output_type": "error",
     "traceback": [
      "\u001b[1;31m---------------------------------------------------------------------------\u001b[0m",
      "\u001b[1;31mKeyError\u001b[0m                                  Traceback (most recent call last)",
      "\u001b[1;32m<ipython-input-27-a9c69c09cb82>\u001b[0m in \u001b[0;36m<module>\u001b[1;34m\u001b[0m\n\u001b[0;32m      1\u001b[0m \u001b[0mset_skypro\u001b[0m \u001b[1;33m=\u001b[0m \u001b[1;33m{\u001b[0m\u001b[1;34m'Excel'\u001b[0m\u001b[1;33m,\u001b[0m \u001b[1;34m'SQL'\u001b[0m\u001b[1;33m,\u001b[0m \u001b[1;34m'Python'\u001b[0m\u001b[1;33m,\u001b[0m \u001b[1;34m'PBI'\u001b[0m\u001b[1;33m}\u001b[0m\u001b[1;33m\u001b[0m\u001b[1;33m\u001b[0m\u001b[0m\n\u001b[1;32m----> 2\u001b[1;33m \u001b[0mset_skypro\u001b[0m\u001b[1;33m.\u001b[0m\u001b[0mremove\u001b[0m\u001b[1;33m(\u001b[0m\u001b[1;34m'PHP'\u001b[0m\u001b[1;33m)\u001b[0m\u001b[1;33m\u001b[0m\u001b[1;33m\u001b[0m\u001b[0m\n\u001b[0m\u001b[0;32m      3\u001b[0m \u001b[0mprint\u001b[0m\u001b[1;33m(\u001b[0m\u001b[0mset_skypro\u001b[0m\u001b[1;33m)\u001b[0m\u001b[1;33m\u001b[0m\u001b[1;33m\u001b[0m\u001b[0m\n",
      "\u001b[1;31mKeyError\u001b[0m: 'PHP'"
     ]
    }
   ],
   "source": [
    "set_skypro = {'Excel', 'SQL', 'Python', 'PBI'}\n",
    "set_skypro.remove('PHP')\n",
    "print(set_skypro)"
   ]
  },
  {
   "cell_type": "code",
   "execution_count": 1,
   "id": "9a6714f7",
   "metadata": {},
   "outputs": [
    {
     "ename": "TypeError",
     "evalue": "'set' object is not subscriptable",
     "output_type": "error",
     "traceback": [
      "\u001b[1;31m---------------------------------------------------------------------------\u001b[0m",
      "\u001b[1;31mTypeError\u001b[0m                                 Traceback (most recent call last)",
      "\u001b[1;32m<ipython-input-1-0783f887eefd>\u001b[0m in \u001b[0;36m<module>\u001b[1;34m\u001b[0m\n\u001b[0;32m      1\u001b[0m \u001b[0mset_skypro\u001b[0m \u001b[1;33m=\u001b[0m \u001b[1;33m{\u001b[0m\u001b[1;34m'Excel'\u001b[0m\u001b[1;33m,\u001b[0m \u001b[1;34m'SQL'\u001b[0m\u001b[1;33m,\u001b[0m \u001b[1;34m'Python'\u001b[0m\u001b[1;33m,\u001b[0m \u001b[1;34m'PBI'\u001b[0m\u001b[1;33m}\u001b[0m\u001b[1;33m\u001b[0m\u001b[1;33m\u001b[0m\u001b[0m\n\u001b[1;32m----> 2\u001b[1;33m \u001b[0mset_skypro\u001b[0m\u001b[1;33m[\u001b[0m\u001b[1;36m0\u001b[0m\u001b[1;33m]\u001b[0m\u001b[1;33m\u001b[0m\u001b[1;33m\u001b[0m\u001b[0m\n\u001b[0m",
      "\u001b[1;31mTypeError\u001b[0m: 'set' object is not subscriptable"
     ]
    }
   ],
   "source": [
    "set_skypro = {'Excel', 'SQL', 'Python', 'PBI'}\n",
    "set_skypro[0]"
   ]
  },
  {
   "cell_type": "markdown",
   "id": "5a624d41",
   "metadata": {},
   "source": [
    "# 2. Словари"
   ]
  },
  {
   "cell_type": "markdown",
   "id": "859bdd71",
   "metadata": {},
   "source": [
    "### 2.1. Введение в словари"
   ]
  },
  {
   "cell_type": "markdown",
   "id": "71ede480",
   "metadata": {},
   "source": [
    "Коллекция данных, которая позволяет хранить пары «ключ — значение». \n",
    "\n",
    "1. Ключ — любой тип неизменяемых данных: числа, строки, кортежи, булевы значения\n",
    "\n",
    "2. Значение — вообще любой тип данных, в том числе другой словарь"
   ]
  },
  {
   "cell_type": "code",
   "execution_count": 28,
   "id": "feffa026",
   "metadata": {},
   "outputs": [],
   "source": [
    "dict_credits = {11345:15000, 312333:120000, 287212:95000, 178654:115000}"
   ]
  },
  {
   "cell_type": "code",
   "execution_count": 29,
   "id": "87ede8fe",
   "metadata": {},
   "outputs": [],
   "source": [
    "dict_cities = {111:'Москва', 112:'Санкт-Петербург', 113:'Краснодар', 114:'Казань', 115:'Сочи'}"
   ]
  },
  {
   "cell_type": "code",
   "execution_count": 1,
   "id": "4627c626",
   "metadata": {},
   "outputs": [],
   "source": [
    "dict_example1 = {'2':2, 14.0:[1,2,3], (1,2,3):[1,2,3], True:True}"
   ]
  },
  {
   "cell_type": "code",
   "execution_count": 2,
   "id": "1f0fbe34",
   "metadata": {},
   "outputs": [
    {
     "ename": "TypeError",
     "evalue": "unhashable type: 'list'",
     "output_type": "error",
     "traceback": [
      "\u001b[1;31m---------------------------------------------------------------------------\u001b[0m",
      "\u001b[1;31mTypeError\u001b[0m                                 Traceback (most recent call last)",
      "\u001b[1;32m<ipython-input-2-504b1083e4d3>\u001b[0m in \u001b[0;36m<module>\u001b[1;34m\u001b[0m\n\u001b[1;32m----> 1\u001b[1;33m \u001b[0mdict_example2\u001b[0m \u001b[1;33m=\u001b[0m \u001b[1;33m{\u001b[0m\u001b[1;34m'2'\u001b[0m\u001b[1;33m:\u001b[0m\u001b[1;36m2\u001b[0m\u001b[1;33m,\u001b[0m \u001b[1;33m[\u001b[0m\u001b[1;36m1\u001b[0m\u001b[1;33m,\u001b[0m\u001b[1;36m2\u001b[0m\u001b[1;33m,\u001b[0m\u001b[1;36m3\u001b[0m\u001b[1;33m]\u001b[0m\u001b[1;33m:\u001b[0m\u001b[1;34m'AAA'\u001b[0m\u001b[1;33m}\u001b[0m\u001b[1;33m\u001b[0m\u001b[1;33m\u001b[0m\u001b[0m\n\u001b[0m",
      "\u001b[1;31mTypeError\u001b[0m: unhashable type: 'list'"
     ]
    }
   ],
   "source": [
    "dict_example2 = {'2':2, [1,2,3]:'AAA'}"
   ]
  },
  {
   "cell_type": "code",
   "execution_count": 3,
   "id": "0c9f87c0",
   "metadata": {},
   "outputs": [
    {
     "ename": "TypeError",
     "evalue": "unhashable type: 'set'",
     "output_type": "error",
     "traceback": [
      "\u001b[1;31m---------------------------------------------------------------------------\u001b[0m",
      "\u001b[1;31mTypeError\u001b[0m                                 Traceback (most recent call last)",
      "\u001b[1;32m<ipython-input-3-bdbe90068b81>\u001b[0m in \u001b[0;36m<module>\u001b[1;34m\u001b[0m\n\u001b[1;32m----> 1\u001b[1;33m \u001b[0mdict_example3\u001b[0m \u001b[1;33m=\u001b[0m \u001b[1;33m{\u001b[0m\u001b[1;34m'2'\u001b[0m\u001b[1;33m:\u001b[0m\u001b[1;36m2\u001b[0m\u001b[1;33m,\u001b[0m \u001b[1;33m{\u001b[0m\u001b[1;36m1\u001b[0m\u001b[1;33m,\u001b[0m\u001b[1;36m2\u001b[0m\u001b[1;33m,\u001b[0m\u001b[1;36m3\u001b[0m\u001b[1;33m}\u001b[0m\u001b[1;33m:\u001b[0m\u001b[1;34m'AAA'\u001b[0m\u001b[1;33m}\u001b[0m\u001b[1;33m\u001b[0m\u001b[1;33m\u001b[0m\u001b[0m\n\u001b[0m",
      "\u001b[1;31mTypeError\u001b[0m: unhashable type: 'set'"
     ]
    }
   ],
   "source": [
    "dict_example3 = {'2':2, {1,2,3}:'AAA'}"
   ]
  },
  {
   "cell_type": "code",
   "execution_count": 33,
   "id": "e089c2e2",
   "metadata": {},
   "outputs": [],
   "source": [
    "dict_example4 = {'2':2, 'AAA':{1,2,3}}"
   ]
  },
  {
   "cell_type": "code",
   "execution_count": 34,
   "id": "0fe10297",
   "metadata": {},
   "outputs": [],
   "source": [
    "######################################################################################################"
   ]
  },
  {
   "cell_type": "code",
   "execution_count": 35,
   "id": "e1d382d3",
   "metadata": {},
   "outputs": [
    {
     "name": "stdout",
     "output_type": "stream",
     "text": [
      "{111: 'Москва', 112: 'Санкт-Петербург', 113: 'Краснодар', 114: 'Казань', 115: 'Сочи'} <class 'dict'>\n"
     ]
    }
   ],
   "source": [
    "print(dict_cities,type(dict_cities))"
   ]
  },
  {
   "cell_type": "code",
   "execution_count": 36,
   "id": "295d94dd",
   "metadata": {},
   "outputs": [
    {
     "ename": "KeyError",
     "evalue": "0",
     "output_type": "error",
     "traceback": [
      "\u001b[1;31m---------------------------------------------------------------------------\u001b[0m",
      "\u001b[1;31mKeyError\u001b[0m                                  Traceback (most recent call last)",
      "\u001b[1;32m<ipython-input-36-16e55e7db281>\u001b[0m in \u001b[0;36m<module>\u001b[1;34m\u001b[0m\n\u001b[1;32m----> 1\u001b[1;33m \u001b[0mdict_cities\u001b[0m\u001b[1;33m[\u001b[0m\u001b[1;36m0\u001b[0m\u001b[1;33m]\u001b[0m\u001b[1;33m\u001b[0m\u001b[1;33m\u001b[0m\u001b[0m\n\u001b[0m",
      "\u001b[1;31mKeyError\u001b[0m: 0"
     ]
    }
   ],
   "source": [
    "dict_cities[0]"
   ]
  },
  {
   "cell_type": "code",
   "execution_count": 37,
   "id": "62a71bba",
   "metadata": {},
   "outputs": [
    {
     "data": {
      "text/plain": [
       "'Москва'"
      ]
     },
     "execution_count": 37,
     "metadata": {},
     "output_type": "execute_result"
    }
   ],
   "source": [
    "dict_cities = {111:'Москва', 112:'Санкт-Петербург', 113:'Краснодар', 114:'Казань', 115:'Сочи'}\n",
    "\n",
    "print(dict_cities[0])\n",
    "print(dict_cities[111])\n",
    "print(dict_cities['111'])\n",
    "print(dict_cities['Москва'])"
   ]
  },
  {
   "cell_type": "code",
   "execution_count": 38,
   "id": "2b1be897",
   "metadata": {},
   "outputs": [
    {
     "ename": "KeyError",
     "evalue": "'111'",
     "output_type": "error",
     "traceback": [
      "\u001b[1;31m---------------------------------------------------------------------------\u001b[0m",
      "\u001b[1;31mKeyError\u001b[0m                                  Traceback (most recent call last)",
      "\u001b[1;32m<ipython-input-38-edd83bc93c2f>\u001b[0m in \u001b[0;36m<module>\u001b[1;34m\u001b[0m\n\u001b[1;32m----> 1\u001b[1;33m \u001b[0mdict_cities\u001b[0m\u001b[1;33m[\u001b[0m\u001b[1;34m'111'\u001b[0m\u001b[1;33m]\u001b[0m\u001b[1;33m\u001b[0m\u001b[1;33m\u001b[0m\u001b[0m\n\u001b[0m",
      "\u001b[1;31mKeyError\u001b[0m: '111'"
     ]
    }
   ],
   "source": [
    "dict_cities['111']"
   ]
  },
  {
   "cell_type": "code",
   "execution_count": 39,
   "id": "1646a583",
   "metadata": {},
   "outputs": [
    {
     "ename": "KeyError",
     "evalue": "'Москва'",
     "output_type": "error",
     "traceback": [
      "\u001b[1;31m---------------------------------------------------------------------------\u001b[0m",
      "\u001b[1;31mKeyError\u001b[0m                                  Traceback (most recent call last)",
      "\u001b[1;32m<ipython-input-39-e5a4a7e995fa>\u001b[0m in \u001b[0;36m<module>\u001b[1;34m\u001b[0m\n\u001b[1;32m----> 1\u001b[1;33m \u001b[0mdict_cities\u001b[0m\u001b[1;33m[\u001b[0m\u001b[1;34m'Москва'\u001b[0m\u001b[1;33m]\u001b[0m\u001b[1;33m\u001b[0m\u001b[1;33m\u001b[0m\u001b[0m\n\u001b[0m",
      "\u001b[1;31mKeyError\u001b[0m: 'Москва'"
     ]
    }
   ],
   "source": [
    "dict_cities['Москва']"
   ]
  },
  {
   "cell_type": "code",
   "execution_count": 40,
   "id": "a614eae9",
   "metadata": {},
   "outputs": [],
   "source": [
    "######################################################################################################"
   ]
  },
  {
   "cell_type": "code",
   "execution_count": 41,
   "id": "2560626e",
   "metadata": {},
   "outputs": [
    {
     "name": "stdout",
     "output_type": "stream",
     "text": [
      "111\n",
      "112\n",
      "113\n",
      "114\n",
      "115\n"
     ]
    }
   ],
   "source": [
    "for i in dict_cities:\n",
    "    print(i)"
   ]
  },
  {
   "cell_type": "code",
   "execution_count": 42,
   "id": "da49853d",
   "metadata": {},
   "outputs": [
    {
     "name": "stdout",
     "output_type": "stream",
     "text": [
      "Москва\n",
      "Санкт-Петербург\n",
      "Краснодар\n",
      "Казань\n",
      "Сочи\n"
     ]
    }
   ],
   "source": [
    "for i in dict_cities:\n",
    "    print(dict_cities[i])"
   ]
  },
  {
   "cell_type": "markdown",
   "id": "e0005e80",
   "metadata": {},
   "source": [
    "### 2.2. Добавление и обновление значений"
   ]
  },
  {
   "cell_type": "code",
   "execution_count": 43,
   "id": "c223d92d",
   "metadata": {},
   "outputs": [
    {
     "data": {
      "text/plain": [
       "{111: 'Москва',\n",
       " 112: 'Санкт-Петербург',\n",
       " 113: 'Краснодар',\n",
       " 114: 'Казань',\n",
       " 115: 'Сочи'}"
      ]
     },
     "execution_count": 43,
     "metadata": {},
     "output_type": "execute_result"
    }
   ],
   "source": [
    "dict_cities"
   ]
  },
  {
   "cell_type": "code",
   "execution_count": 44,
   "id": "824e4333",
   "metadata": {},
   "outputs": [],
   "source": [
    "dict_cities[116] = 'Екатеринбург'"
   ]
  },
  {
   "cell_type": "code",
   "execution_count": 45,
   "id": "f0a547d5",
   "metadata": {},
   "outputs": [
    {
     "data": {
      "text/plain": [
       "{111: 'Москва',\n",
       " 112: 'Санкт-Петербург',\n",
       " 113: 'Краснодар',\n",
       " 114: 'Казань',\n",
       " 115: 'Сочи',\n",
       " 116: 'Екатеринбург'}"
      ]
     },
     "execution_count": 45,
     "metadata": {},
     "output_type": "execute_result"
    }
   ],
   "source": [
    "dict_cities"
   ]
  },
  {
   "cell_type": "code",
   "execution_count": 46,
   "id": "696de97a",
   "metadata": {},
   "outputs": [],
   "source": [
    "dict_cities[116] = 'Челябинск'"
   ]
  },
  {
   "cell_type": "code",
   "execution_count": 47,
   "id": "f2f4785c",
   "metadata": {},
   "outputs": [
    {
     "data": {
      "text/plain": [
       "{111: 'Москва',\n",
       " 112: 'Санкт-Петербург',\n",
       " 113: 'Краснодар',\n",
       " 114: 'Казань',\n",
       " 115: 'Сочи',\n",
       " 116: 'Челябинск'}"
      ]
     },
     "execution_count": 47,
     "metadata": {},
     "output_type": "execute_result"
    }
   ],
   "source": [
    "dict_cities"
   ]
  },
  {
   "cell_type": "markdown",
   "id": "7599f25f",
   "metadata": {},
   "source": [
    "### 2.3. Базовые методы работы со словарем\n",
    "\n",
    "Подоробнее про методы работы со словарем можно почитать [`тут.`](https://pythonworld.ru/tipy-dannyx-v-python/slovari-dict-funkcii-i-metody-slovarej.html) \n",
    "\n",
    "А вот 4 самых полезных для нас с вами:\n",
    "\n",
    "\n",
    " - `.get(key,[default])` — возвращает значение ключа\n",
    "\n",
    " - `.items()` — возвращает пары (ключ, значение)\n",
    "\n",
    " - `.keys()` — возвращает ключи в словаре\n",
    "\n",
    " - `.values()` — возвращает значения в словаре"
   ]
  },
  {
   "cell_type": "markdown",
   "id": "86198f64",
   "metadata": {},
   "source": [
    "###  `.get() ` лучше чем просто обращение к ключу через  `[] `\n",
    "\n",
    "Возвращает значение ключа, но если его нет, возвращает не ошибку, а то, что мы занесем в `default` (по умолчанию `None`)."
   ]
  },
  {
   "cell_type": "code",
   "execution_count": 48,
   "id": "76d826b9",
   "metadata": {},
   "outputs": [
    {
     "data": {
      "text/plain": [
       "'Москва'"
      ]
     },
     "execution_count": 48,
     "metadata": {},
     "output_type": "execute_result"
    }
   ],
   "source": [
    "dict_cities.get(111)"
   ]
  },
  {
   "cell_type": "code",
   "execution_count": 49,
   "id": "330ac7a5",
   "metadata": {},
   "outputs": [
    {
     "ename": "KeyError",
     "evalue": "126",
     "output_type": "error",
     "traceback": [
      "\u001b[1;31m---------------------------------------------------------------------------\u001b[0m",
      "\u001b[1;31mKeyError\u001b[0m                                  Traceback (most recent call last)",
      "\u001b[1;32m<ipython-input-49-f7e5b1c76a95>\u001b[0m in \u001b[0;36m<module>\u001b[1;34m\u001b[0m\n\u001b[1;32m----> 1\u001b[1;33m \u001b[0mdict_cities\u001b[0m\u001b[1;33m[\u001b[0m\u001b[1;36m126\u001b[0m\u001b[1;33m]\u001b[0m\u001b[1;33m\u001b[0m\u001b[1;33m\u001b[0m\u001b[0m\n\u001b[0m",
      "\u001b[1;31mKeyError\u001b[0m: 126"
     ]
    }
   ],
   "source": [
    "dict_cities[126]"
   ]
  },
  {
   "cell_type": "code",
   "execution_count": 55,
   "id": "4f1937f8",
   "metadata": {},
   "outputs": [
    {
     "data": {
      "text/plain": [
       "'Нет такого ключа!'"
      ]
     },
     "execution_count": 55,
     "metadata": {},
     "output_type": "execute_result"
    }
   ],
   "source": [
    "dict_cities.get(130,'Нет такого ключа!')"
   ]
  },
  {
   "cell_type": "code",
   "execution_count": 50,
   "id": "5cce4cb5",
   "metadata": {},
   "outputs": [],
   "source": [
    "dict_cities.get(125)"
   ]
  },
  {
   "cell_type": "code",
   "execution_count": 51,
   "id": "2ba33b13",
   "metadata": {},
   "outputs": [
    {
     "ename": "KeyError",
     "evalue": "125",
     "output_type": "error",
     "traceback": [
      "\u001b[1;31m---------------------------------------------------------------------------\u001b[0m",
      "\u001b[1;31mKeyError\u001b[0m                                  Traceback (most recent call last)",
      "\u001b[1;32m<ipython-input-51-683bab8e270f>\u001b[0m in \u001b[0;36m<module>\u001b[1;34m\u001b[0m\n\u001b[1;32m----> 1\u001b[1;33m \u001b[0mdict_cities\u001b[0m\u001b[1;33m[\u001b[0m\u001b[1;36m125\u001b[0m\u001b[1;33m]\u001b[0m\u001b[1;33m\u001b[0m\u001b[1;33m\u001b[0m\u001b[0m\n\u001b[0m",
      "\u001b[1;31mKeyError\u001b[0m: 125"
     ]
    }
   ],
   "source": [
    "dict_cities[125]"
   ]
  },
  {
   "cell_type": "markdown",
   "id": "0b804126",
   "metadata": {},
   "source": [
    "###  `.items() `\n",
    "\n",
    "Возвращает пары (ключ, значение)."
   ]
  },
  {
   "cell_type": "code",
   "execution_count": 56,
   "id": "9d47ac4b",
   "metadata": {},
   "outputs": [
    {
     "data": {
      "text/plain": [
       "dict_items([(111, 'Москва'), (112, 'Санкт-Петербург'), (113, 'Краснодар'), (114, 'Казань'), (115, 'Сочи'), (116, 'Челябинск')])"
      ]
     },
     "execution_count": 56,
     "metadata": {},
     "output_type": "execute_result"
    }
   ],
   "source": [
    "dict_cities.items()"
   ]
  },
  {
   "cell_type": "code",
   "execution_count": 58,
   "id": "be7a2d96",
   "metadata": {},
   "outputs": [],
   "source": [
    "crm_info =  {\n",
    "('id:',86609):'клиент example@example.com готов к оплате',\n",
    "('id:',12588):'учение настроен позвитивно, positive_one@positiv.ru',\n",
    "('id:',19085):'only_mail@positiv.ru',\n",
    "('id:',42956):'от учебы отказался. negative@somemail.ru',\n",
    "('id:',38821):'our own app testing test@test.ru',\n",
    "('id:',47860):'повторная заявка от пользователя itsmeagail@spam.com',\n",
    "('id:',92172):''\n",
    "}"
   ]
  },
  {
   "cell_type": "code",
   "execution_count": 59,
   "id": "1e47aa76",
   "metadata": {},
   "outputs": [
    {
     "data": {
      "text/plain": [
       "dict_items([(('id:', 86609), 'клиент example@example.com готов к оплате'), (('id:', 12588), 'учение настроен позвитивно, positive_one@positiv.ru'), (('id:', 19085), 'only_mail@positiv.ru'), (('id:', 42956), 'от учебы отказался. negative@somemail.ru'), (('id:', 38821), 'our own app testing test@test.ru'), (('id:', 47860), 'повторная заявка от пользователя itsmeagail@spam.com'), (('id:', 92172), '')])"
      ]
     },
     "execution_count": 59,
     "metadata": {},
     "output_type": "execute_result"
    }
   ],
   "source": [
    "crm_info.items() # посмотрим на словарь"
   ]
  },
  {
   "cell_type": "code",
   "execution_count": 60,
   "id": "aaa291a7",
   "metadata": {},
   "outputs": [],
   "source": [
    "c = crm_info.items()"
   ]
  },
  {
   "cell_type": "code",
   "execution_count": 61,
   "id": "d29684a8",
   "metadata": {},
   "outputs": [
    {
     "name": "stdout",
     "output_type": "stream",
     "text": [
      "<class 'dict_items'>\n"
     ]
    }
   ],
   "source": [
    "print(type(c))"
   ]
  },
  {
   "cell_type": "code",
   "execution_count": 63,
   "id": "0ea72163",
   "metadata": {},
   "outputs": [],
   "source": [
    "d = [(('id:', 86609), 'клиент example@example.com готов к оплате'), (('id:', 12588), 'учение настроен позвитивно, positive_one@positiv.ru'), (('id:', 19085), 'only_mail@positiv.ru'), (('id:', 42956), 'от учебы отказался. negative@somemail.ru'), (('id:', 38821), 'our own app testing test@test.ru'), (('id:', 47860), 'повторная заявка от пользователя itsmeagail@spam.com'), (('id:', 92172), '')]"
   ]
  },
  {
   "cell_type": "code",
   "execution_count": 64,
   "id": "521fcaec",
   "metadata": {},
   "outputs": [
    {
     "data": {
      "text/plain": [
       "list"
      ]
     },
     "execution_count": 64,
     "metadata": {},
     "output_type": "execute_result"
    }
   ],
   "source": [
    "type(d)"
   ]
  },
  {
   "cell_type": "markdown",
   "id": "02fe82fc",
   "metadata": {},
   "source": [
    "### `.keys()`\n",
    "\n",
    "Возвращает ключи в словаре."
   ]
  },
  {
   "cell_type": "code",
   "execution_count": 65,
   "id": "4512469c",
   "metadata": {},
   "outputs": [
    {
     "data": {
      "text/plain": [
       "dict_keys([('id:', 86609), ('id:', 12588), ('id:', 19085), ('id:', 42956), ('id:', 38821), ('id:', 47860), ('id:', 92172)])"
      ]
     },
     "execution_count": 65,
     "metadata": {},
     "output_type": "execute_result"
    }
   ],
   "source": [
    "crm_info.keys() # в ключах лежат кортежи"
   ]
  },
  {
   "cell_type": "code",
   "execution_count": 68,
   "id": "00e9099d",
   "metadata": {},
   "outputs": [
    {
     "name": "stdout",
     "output_type": "stream",
     "text": [
      "<class 'dict_keys'>\n"
     ]
    }
   ],
   "source": [
    "s = crm_info.keys() # в ключах лежат кортежи\n",
    "print(type(s))"
   ]
  },
  {
   "cell_type": "code",
   "execution_count": 66,
   "id": "0bc9320a",
   "metadata": {},
   "outputs": [
    {
     "name": "stdout",
     "output_type": "stream",
     "text": [
      "('id:', 86609)\n",
      "('id:', 12588)\n",
      "('id:', 19085)\n",
      "('id:', 42956)\n",
      "('id:', 38821)\n",
      "('id:', 47860)\n",
      "('id:', 92172)\n"
     ]
    }
   ],
   "source": [
    "for i in crm_info.keys():\n",
    "    print(i)"
   ]
  },
  {
   "cell_type": "code",
   "execution_count": 67,
   "id": "70bb2e6c",
   "metadata": {},
   "outputs": [
    {
     "name": "stdout",
     "output_type": "stream",
     "text": [
      "('id:', 86609)\n",
      "('id:', 12588)\n",
      "('id:', 19085)\n",
      "('id:', 42956)\n",
      "('id:', 38821)\n",
      "('id:', 47860)\n",
      "('id:', 92172)\n"
     ]
    }
   ],
   "source": [
    "for i in crm_info:\n",
    "    print(i)"
   ]
  },
  {
   "cell_type": "markdown",
   "id": "ddf72e43",
   "metadata": {},
   "source": [
    "###  ` .values() ` \n",
    "Возвращает значения в словаре."
   ]
  },
  {
   "cell_type": "code",
   "execution_count": 69,
   "id": "5a79f081",
   "metadata": {},
   "outputs": [
    {
     "name": "stdout",
     "output_type": "stream",
     "text": [
      "<class 'str'> клиент example@example.com готов к оплате\n",
      "<class 'str'> учение настроен позвитивно, positive_one@positiv.ru\n",
      "<class 'str'> only_mail@positiv.ru\n",
      "<class 'str'> от учебы отказался. negative@somemail.ru\n",
      "<class 'str'> our own app testing test@test.ru\n",
      "<class 'str'> повторная заявка от пользователя itsmeagail@spam.com\n",
      "<class 'str'> \n"
     ]
    }
   ],
   "source": [
    "for i in crm_info.values(): # посмотрим на значения. Через итерирование смотреть гораздо удобнее\n",
    "    print(type(i), i)"
   ]
  },
  {
   "cell_type": "code",
   "execution_count": 71,
   "id": "66bbbd32",
   "metadata": {},
   "outputs": [
    {
     "name": "stdout",
     "output_type": "stream",
     "text": [
      "<class 'dict_values'>\n",
      "dict_values(['клиент example@example.com готов к оплате', 'учение настроен позвитивно, positive_one@positiv.ru', 'only_mail@positiv.ru', 'от учебы отказался. negative@somemail.ru', 'our own app testing test@test.ru', 'повторная заявка от пользователя itsmeagail@spam.com', ''])\n"
     ]
    }
   ],
   "source": [
    "a = crm_info.values()\n",
    "print(type(a))\n",
    "print(a)"
   ]
  },
  {
   "cell_type": "markdown",
   "id": "5f2d88ca",
   "metadata": {},
   "source": [
    "### Задача\n",
    "\n",
    "Давайте вместе соберем из имеющихся у нас данных новый, чистый словарь.\n",
    "\n",
    "1. Вместо кортежей, в качестве ключей положим просто идентификаторы пользователей\n",
    "2. В качестве значений положим только почту"
   ]
  },
  {
   "cell_type": "markdown",
   "id": "e7260a20",
   "metadata": {},
   "source": [
    "**Шаг 1. Вместо кортежей, в качестве ключей положим просто идентификаторы пользователей.**"
   ]
  },
  {
   "cell_type": "code",
   "execution_count": 72,
   "id": "b497b603",
   "metadata": {},
   "outputs": [
    {
     "data": {
      "text/plain": [
       "{('id:', 86609): 'клиент example@example.com готов к оплате',\n",
       " ('id:', 12588): 'учение настроен позвитивно, positive_one@positiv.ru',\n",
       " ('id:', 19085): 'only_mail@positiv.ru',\n",
       " ('id:', 42956): 'от учебы отказался. negative@somemail.ru',\n",
       " ('id:', 38821): 'our own app testing test@test.ru',\n",
       " ('id:', 47860): 'повторная заявка от пользователя itsmeagail@spam.com',\n",
       " ('id:', 92172): ''}"
      ]
     },
     "execution_count": 72,
     "metadata": {},
     "output_type": "execute_result"
    }
   ],
   "source": [
    "crm_info"
   ]
  },
  {
   "cell_type": "code",
   "execution_count": 75,
   "id": "199f1fa1",
   "metadata": {},
   "outputs": [],
   "source": [
    "new_crm = dict()                         # создадим новый словарь, переберем значения из нашего словаря\n",
    "for client, comment in crm_info.items(): # проитерируем наш словарь\n",
    "\n",
    "    client = client[1]                   # переопределеим ключи. Нам нужен только второй элемент кортежа\n",
    "    new_crm[client] = comment\n"
   ]
  },
  {
   "cell_type": "code",
   "execution_count": 76,
   "id": "844aa52f",
   "metadata": {},
   "outputs": [
    {
     "data": {
      "text/plain": [
       "{86609: 'клиент example@example.com готов к оплате',\n",
       " 12588: 'учение настроен позвитивно, positive_one@positiv.ru',\n",
       " 19085: 'only_mail@positiv.ru',\n",
       " 42956: 'от учебы отказался. negative@somemail.ru',\n",
       " 38821: 'our own app testing test@test.ru',\n",
       " 47860: 'повторная заявка от пользователя itsmeagail@spam.com',\n",
       " 92172: ''}"
      ]
     },
     "execution_count": 76,
     "metadata": {},
     "output_type": "execute_result"
    }
   ],
   "source": [
    "new_crm"
   ]
  },
  {
   "cell_type": "markdown",
   "id": "7a3de7a3",
   "metadata": {},
   "source": [
    "**Шаг 2. В качестве значений положим только почту.**\n",
    "\n",
    "Сегодня мы уже доставали почты из списка, давайте вспомним, как мы это делали с использованием метода split()\n"
   ]
  },
  {
   "cell_type": "code",
   "execution_count": 78,
   "id": "6e93173a",
   "metadata": {},
   "outputs": [],
   "source": [
    "for client, comment in new_crm.items(): \n",
    "    comment = comment.split(' ')\n",
    "    for element in comment: \n",
    "        if element.find('@') > 0:\n",
    "            new_crm[client] = element"
   ]
  },
  {
   "cell_type": "code",
   "execution_count": 79,
   "id": "93123a10",
   "metadata": {},
   "outputs": [
    {
     "data": {
      "text/plain": [
       "{86609: 'example@example.com',\n",
       " 12588: 'positive_one@positiv.ru',\n",
       " 19085: 'only_mail@positiv.ru',\n",
       " 42956: 'negative@somemail.ru',\n",
       " 38821: 'test@test.ru',\n",
       " 47860: 'itsmeagail@spam.com',\n",
       " 92172: ''}"
      ]
     },
     "execution_count": 79,
     "metadata": {},
     "output_type": "execute_result"
    }
   ],
   "source": [
    "new_crm"
   ]
  },
  {
   "cell_type": "markdown",
   "id": "6e16b791",
   "metadata": {},
   "source": [
    "### 2.4. Словари как мини-база данных\n",
    "\n",
    "То, что в значениях словарей могут лежать любые типы данных, позволяет использовать их в качестве баз данных.\n",
    "\n",
    "\n",
    "### Задача\n",
    "\n",
    "Соберем словарь, в котором **ключом будет идентификатор пользователя**, а **значением — другой словарь с двумя значениями**:\n",
    "\n",
    "- mail: почта\n",
    "- comment: текст комментария"
   ]
  },
  {
   "cell_type": "code",
   "execution_count": 84,
   "id": "9d186c01",
   "metadata": {},
   "outputs": [],
   "source": [
    "mini_db_crm = dict()                     # создадим новый словарь, переберем значения из нашего словаря\n",
    "\n",
    "for client, comment in crm_info.items(): # проитерируем наш словарь\n",
    "    client = client[1]                # переопределеим ключи, нам нужен только второй элемент кортежа\n",
    "    #print(client)\n",
    "    comment_dict = dict()\n",
    "    mail = ''\n",
    "    for i in comment.split(' '):\n",
    "        #print(i)\n",
    "        if i.find('@') > 0:\n",
    "            mail = i\n",
    "    \n",
    "    comment_dict['mail'] = mail\n",
    "    comment_dict['comment'] = comment\n",
    "    #print(comment_dict)\n",
    "    mini_db_crm[client] = comment_dict   # положим в новый словарь пары id:список слов "
   ]
  },
  {
   "cell_type": "code",
   "execution_count": 85,
   "id": "13707016",
   "metadata": {},
   "outputs": [
    {
     "data": {
      "text/plain": [
       "{86609: {'mail': 'example@example.com',\n",
       "  'comment': 'клиент example@example.com готов к оплате'},\n",
       " 12588: {'mail': 'positive_one@positiv.ru',\n",
       "  'comment': 'учение настроен позвитивно, positive_one@positiv.ru'},\n",
       " 19085: {'mail': 'only_mail@positiv.ru', 'comment': 'only_mail@positiv.ru'},\n",
       " 42956: {'mail': 'negative@somemail.ru',\n",
       "  'comment': 'от учебы отказался. negative@somemail.ru'},\n",
       " 38821: {'mail': 'test@test.ru',\n",
       "  'comment': 'our own app testing test@test.ru'},\n",
       " 47860: {'mail': 'itsmeagail@spam.com',\n",
       "  'comment': 'повторная заявка от пользователя itsmeagail@spam.com'},\n",
       " 92172: {'mail': '', 'comment': ''}}"
      ]
     },
     "execution_count": 85,
     "metadata": {},
     "output_type": "execute_result"
    }
   ],
   "source": [
    "mini_db_crm"
   ]
  },
  {
   "cell_type": "markdown",
   "id": "2ccc21db",
   "metadata": {},
   "source": [
    "Достанем все, что мы знаем про пользователя 86609."
   ]
  },
  {
   "cell_type": "code",
   "execution_count": 86,
   "id": "fa0ca20c",
   "metadata": {},
   "outputs": [
    {
     "data": {
      "text/plain": [
       "{'mail': 'example@example.com',\n",
       " 'comment': 'клиент example@example.com готов к оплате'}"
      ]
     },
     "execution_count": 86,
     "metadata": {},
     "output_type": "execute_result"
    }
   ],
   "source": [
    "mini_db_crm[86609] # в значении записан словарь"
   ]
  },
  {
   "cell_type": "markdown",
   "id": "7a203dbe",
   "metadata": {},
   "source": [
    "А теперь достанем почту пользователя 86609."
   ]
  },
  {
   "cell_type": "code",
   "execution_count": 87,
   "id": "2b57d1c2",
   "metadata": {},
   "outputs": [
    {
     "data": {
      "text/plain": [
       "'example@example.com'"
      ]
     },
     "execution_count": 87,
     "metadata": {},
     "output_type": "execute_result"
    }
   ],
   "source": [
    "mini_db_crm[86609]['mail']"
   ]
  },
  {
   "cell_type": "markdown",
   "id": "24b15718",
   "metadata": {},
   "source": [
    "Достанем все почты."
   ]
  },
  {
   "cell_type": "code",
   "execution_count": 88,
   "id": "776db3e4",
   "metadata": {},
   "outputs": [
    {
     "name": "stdout",
     "output_type": "stream",
     "text": [
      "example@example.com\n",
      "positive_one@positiv.ru\n",
      "only_mail@positiv.ru\n",
      "negative@somemail.ru\n",
      "test@test.ru\n",
      "itsmeagail@spam.com\n",
      "\n"
     ]
    }
   ],
   "source": [
    "for dic in mini_db_crm.values():\n",
    "    print(dic['mail'])"
   ]
  },
  {
   "cell_type": "markdown",
   "id": "d8143e04",
   "metadata": {},
   "source": [
    "# 3. Цикл while"
   ]
  },
  {
   "cell_type": "markdown",
   "id": "208f7b50",
   "metadata": {},
   "source": [
    "**Используется в случаях, когда мы хотим повторять какой-то блок кода из раза в раз до тех пор, пока не будет выполнено какое-то условие**\n",
    "\n",
    "1. Если нам нужно делать что-то постоянно, до того, как мы руками это что-то не выключим.\n",
    "2. Если нужно повторить какое-то действие определенное количество раз, например попытаться выполнить вход."
   ]
  },
  {
   "cell_type": "code",
   "execution_count": 92,
   "id": "c74cb8ec",
   "metadata": {},
   "outputs": [],
   "source": [
    "a = [13, 22, 56, 17, 34, 98, 115, 54, 42, 12]"
   ]
  },
  {
   "cell_type": "code",
   "execution_count": 93,
   "id": "2fdda2fa",
   "metadata": {},
   "outputs": [
    {
     "name": "stdout",
     "output_type": "stream",
     "text": [
      "[13, 22, 56, 17, 34, 98, 115, 54, 42]\n",
      "[13, 22, 56, 17, 34, 98, 115, 54]\n",
      "[13, 22, 56, 17, 34, 98, 115]\n",
      "[13, 22, 56, 17, 34, 98]\n",
      "[13, 22, 56, 17, 34]\n",
      "321\n"
     ]
    }
   ],
   "source": [
    "sum_a = 0\n",
    "\n",
    "while sum_a < 300:\n",
    "    sum_a = sum_a + a.pop()\n",
    "    print(a)\n",
    "print(sum_a)"
   ]
  },
  {
   "cell_type": "code",
   "execution_count": null,
   "id": "7d16c411",
   "metadata": {},
   "outputs": [],
   "source": [
    "sum_a"
   ]
  },
  {
   "cell_type": "code",
   "execution_count": null,
   "id": "e420d9fb",
   "metadata": {},
   "outputs": [],
   "source": [
    "sum(a)"
   ]
  },
  {
   "cell_type": "code",
   "execution_count": null,
   "id": "a2c0c224",
   "metadata": {},
   "outputs": [],
   "source": [
    "12+42+54+115+98"
   ]
  },
  {
   "cell_type": "code",
   "execution_count": null,
   "id": "a712dd82",
   "metadata": {},
   "outputs": [],
   "source": [
    "################################################################################################################################"
   ]
  },
  {
   "cell_type": "code",
   "execution_count": 94,
   "id": "9031fbc5",
   "metadata": {},
   "outputs": [
    {
     "name": "stdout",
     "output_type": "stream",
     "text": [
      "Данила удален из списка\n",
      "['Марк', 'Максим', 'Михаил', 'Шагане']\n",
      "Шагане удален из списка\n",
      "['Марк', 'Максим', 'Михаил']\n",
      "Михаил удален из списка\n",
      "['Марк', 'Максим']\n",
      "Максим удален из списка\n",
      "['Марк']\n",
      "Марк удален из списка\n",
      "[]\n"
     ]
    }
   ],
   "source": [
    "skills_team = ['Марк', 'Максим', 'Михаил', 'Шагане', 'Данила']\n",
    "\n",
    "while len(skills_team) > 0:\n",
    "    print(skills_team.pop(), 'удален из списка')\n",
    "    print(skills_team)"
   ]
  },
  {
   "cell_type": "code",
   "execution_count": 95,
   "id": "2db00b09",
   "metadata": {},
   "outputs": [
    {
     "name": "stdout",
     "output_type": "stream",
     "text": [
      "['Данила', 'Шагане', 'Михаил', 'Максим', 'Марк']\n",
      "Марк удален из списка\n",
      "['Данила', 'Шагане', 'Михаил', 'Максим']\n",
      "Максим удален из списка\n",
      "['Данила', 'Шагане', 'Михаил']\n",
      "Михаил удален из списка\n",
      "['Данила', 'Шагане']\n",
      "Шагане удален из списка\n",
      "['Данила']\n",
      "Данила удален из списка\n",
      "[]\n"
     ]
    }
   ],
   "source": [
    "skills_team = ['Марк', 'Максим', 'Михаил', 'Шагане', 'Данила']\n",
    "skills_team.reverse()\n",
    "print(skills_team)\n",
    "\n",
    "while len(skills_team) > 0:\n",
    "    print(skills_team.pop(), 'удален из списка')\n",
    "    print(skills_team)"
   ]
  },
  {
   "cell_type": "code",
   "execution_count": null,
   "id": "7db0e819",
   "metadata": {},
   "outputs": [],
   "source": [
    "################################################################################################################################"
   ]
  },
  {
   "cell_type": "code",
   "execution_count": 100,
   "id": "7806b60c",
   "metadata": {},
   "outputs": [],
   "source": [
    "employee_list = { 'Анастасия В.':{'prof':'Analyst','grade':2}\n",
    "                , 'Валерий Ц.':{'prof':'Developer','grade':3}\n",
    "                , 'Данила Е.':{'prof':'Analyst','grade':1}\n",
    "                , 'Мария Б.':{'prof':'Tester','grade':2}\n",
    "                , 'Алексей П.':{'prof':'Analyst','grade':1}\n",
    "                , 'Виктор М.':{'prof':'Tester','grade':2}\n",
    "                , 'Кирилл Е.':{'prof':'Manager','grade':1}\n",
    "                , 'Александр В.':{'prof':'Analyst','grade':3}\n",
    "                , 'Ксения Т.':{'prof':'Analyst','grade':2}\n",
    "                , 'Виктор С.':{'prof':'Developer','grade':1}\n",
    "                , 'Алла О.':{'prof':'Manager','grade':2}\n",
    "                , 'Анна Д.':{'prof':'Analyst','grade':1}\n",
    "                , 'Анна П.':{'prof':'Developer','grade':3}\n",
    "                , 'Ксения М.':{'prof':'Analyst','grade':3}\n",
    "                , 'Федор Б.':{'prof':'Analyst','grade':2}\n",
    "                , 'Павел Р.':{'prof':'Tester','grade':1}\n",
    "                }\n",
    "\n"
   ]
  },
  {
   "cell_type": "code",
   "execution_count": 101,
   "id": "feac19d0",
   "metadata": {},
   "outputs": [
    {
     "data": {
      "text/plain": [
       "'Analyst'"
      ]
     },
     "execution_count": 101,
     "metadata": {},
     "output_type": "execute_result"
    }
   ],
   "source": [
    "employee_list['Анастасия В.']['prof']"
   ]
  },
  {
   "cell_type": "code",
   "execution_count": 102,
   "id": "0113e023",
   "metadata": {},
   "outputs": [],
   "source": [
    "analyst_list = []\n",
    "\n",
    "while len(analyst_list) < 3: \n",
    "    c = employee_list.popitem()\n",
    "    if (c[1]['prof'] == 'Analyst') & (c[1]['grade'] >= 2):\n",
    "        analyst_list.append(c[0])\n"
   ]
  },
  {
   "cell_type": "code",
   "execution_count": 103,
   "id": "1a79e932",
   "metadata": {},
   "outputs": [
    {
     "data": {
      "text/plain": [
       "['Федор Б.', 'Ксения М.', 'Ксения Т.']"
      ]
     },
     "execution_count": 103,
     "metadata": {},
     "output_type": "execute_result"
    }
   ],
   "source": [
    "analyst_list"
   ]
  },
  {
   "cell_type": "code",
   "execution_count": null,
   "id": "f098177a",
   "metadata": {},
   "outputs": [],
   "source": []
  },
  {
   "cell_type": "code",
   "execution_count": null,
   "id": "cdbe0932",
   "metadata": {},
   "outputs": [],
   "source": []
  },
  {
   "cell_type": "code",
   "execution_count": null,
   "id": "c18de91e",
   "metadata": {},
   "outputs": [],
   "source": []
  },
  {
   "cell_type": "code",
   "execution_count": null,
   "id": "a54ec8de",
   "metadata": {},
   "outputs": [],
   "source": []
  },
  {
   "cell_type": "code",
   "execution_count": null,
   "id": "d839126b",
   "metadata": {},
   "outputs": [],
   "source": [
    "{\n",
    "\"problems\":[{\n",
    "    \"Diabetes\":[{\n",
    "        \"medications\":[{\n",
    "            \"medicationClasses\":[{\n",
    "                 \"className\":[{\n",
    "                    \"associateDrug\":[{\n",
    "                        \"name\":\"Aspirin\"\n",
    "                        \"dose\":\"\"\n",
    "                        \"strength\":\"500 mg\"\n",
    "                        }],\n",
    "                    \"associateDrug#2\":[{\n",
    "                        \"name\":\"Karvalol\"\n",
    "                        \"dose\":\"\"\n",
    "                        \"strength\":\"500 mg\"\n",
    "                        }]\n",
    "                , \"className#2\":[{\n",
    "                    \"associateDrug\":[{\n",
    "                        \"name\":\"Aspirin\"\n",
    "                        \"dose\":\"\"\n",
    "                        \"strength\":\"500 mg\"\n",
    "                        }],\n",
    "                    \"associateDrug#2\":[{\n",
    "                        \"name\":\"Karvalol\"\n",
    "                        \"dose\":\"\"\n",
    "                        \"strength\":\"500 mg\"\n",
    "                        }]\n",
    "                    }]\n",
    "                }]\n",
    "            }],\n",
    "        \"labs\":[{\n",
    "            \"missing_point\":\"missing_value\"\n",
    "        }]\n",
    "        }]\n",
    "    }]\n",
    "    , \"asthma\":[{}]\n",
    "}]}"
   ]
  },
  {
   "cell_type": "code",
   "execution_count": null,
   "id": "d0d39874",
   "metadata": {},
   "outputs": [],
   "source": []
  },
  {
   "cell_type": "code",
   "execution_count": null,
   "id": "2bb24228",
   "metadata": {},
   "outputs": [],
   "source": []
  },
  {
   "cell_type": "code",
   "execution_count": null,
   "id": "c4f8222a",
   "metadata": {},
   "outputs": [],
   "source": []
  },
  {
   "cell_type": "code",
   "execution_count": null,
   "id": "602c3e1c",
   "metadata": {},
   "outputs": [],
   "source": []
  },
  {
   "cell_type": "code",
   "execution_count": null,
   "id": "5ca526ee",
   "metadata": {},
   "outputs": [],
   "source": []
  },
  {
   "cell_type": "code",
   "execution_count": null,
   "id": "99e55bee",
   "metadata": {},
   "outputs": [],
   "source": []
  },
  {
   "cell_type": "code",
   "execution_count": null,
   "id": "0845ae54",
   "metadata": {},
   "outputs": [],
   "source": []
  },
  {
   "cell_type": "code",
   "execution_count": null,
   "id": "5f3d009f",
   "metadata": {},
   "outputs": [],
   "source": []
  },
  {
   "cell_type": "code",
   "execution_count": null,
   "id": "518e2940",
   "metadata": {},
   "outputs": [],
   "source": []
  },
  {
   "cell_type": "code",
   "execution_count": null,
   "id": "2d8df927",
   "metadata": {},
   "outputs": [],
   "source": []
  },
  {
   "cell_type": "code",
   "execution_count": null,
   "id": "f49e12dd",
   "metadata": {},
   "outputs": [],
   "source": []
  }
 ],
 "metadata": {
  "kernelspec": {
   "display_name": "Python 3",
   "language": "python",
   "name": "python3"
  },
  "language_info": {
   "codemirror_mode": {
    "name": "ipython",
    "version": 3
   },
   "file_extension": ".py",
   "mimetype": "text/x-python",
   "name": "python",
   "nbconvert_exporter": "python",
   "pygments_lexer": "ipython3",
   "version": "3.8.8"
  }
 },
 "nbformat": 4,
 "nbformat_minor": 5
}
