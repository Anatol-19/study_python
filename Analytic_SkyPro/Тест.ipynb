{
  "nbformat": 4,
  "nbformat_minor": 0,
  "metadata": {
    "colab": {
      "name": "Тест.ipynb",
      "provenance": []
    },
    "kernelspec": {
      "name": "python3",
      "display_name": "Python 3"
    },
    "language_info": {
      "name": "python"
    }
  },
  "cells": [
    {
      "cell_type": "markdown",
      "source": [
        "Напишите в поле ниже \n",
        "print(\"Hello world\")\n",
        "и запустите код."
      ],
      "metadata": {
        "id": "ydTtBSsxEdmF"
      }
    },
    {
      "cell_type": "code",
      "execution_count": null,
      "metadata": {
        "id": "ANEsMmbwEOyt"
      },
      "outputs": [],
      "source": [
        ""
      ]
    }
  ]
}